import pickle

with open('scaler.pkl', 'rb') as file:
    scaler = pickle.load(file)
    print(type(scaler))
