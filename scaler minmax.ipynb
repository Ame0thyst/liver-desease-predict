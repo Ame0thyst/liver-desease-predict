{
 "cells": [
  {
   "cell_type": "code",
   "execution_count": 1,
   "metadata": {},
   "outputs": [
    {
     "name": "stdout",
     "output_type": "stream",
     "text": [
      "<class 'numpy.ndarray'>\n"
     ]
    }
   ],
   "source": [
    "import pickle\n",
    "\n",
    "with open('scaler.pkl', 'rb') as file:\n",
    "    scaler = pickle.load(file)\n",
    "    print(type(scaler))\n"
   ]
  },
  {
   "cell_type": "code",
   "execution_count": 2,
   "metadata": {},
   "outputs": [],
   "source": [
    "import pickle\n",
    "from sklearn.preprocessing import MinMaxScaler\n",
    "\n",
    "# Contoh data pelatihan yang digunakan untuk scaler\n",
    "# Gantilah dengan data asli Anda\n",
    "data = [\n",
    "    [30, 1, 1.0, 0.1, 100, 20, 20, 6.5, 3.0, 1.0],  # Baris data pelatihan\n",
    "    [45, 0, 2.0, 0.2, 120, 25, 30, 7.0, 3.5, 1.2]   # Tambahkan lebih banyak data pelatihan\n",
    "]\n",
    "\n",
    "# Inisialisasi scaler\n",
    "scaler = MinMaxScaler()\n",
    "scaler.fit(data)  # Sesuaikan scaler dengan data\n",
    "\n",
    "# Simpan scaler ke file\n",
    "with open('scalernew.pkl', 'wb') as file:\n",
    "    pickle.dump(scaler, file)\n"
   ]
  },
  {
   "cell_type": "code",
   "execution_count": 3,
   "metadata": {},
   "outputs": [
    {
     "name": "stdout",
     "output_type": "stream",
     "text": [
      "<class 'sklearn.preprocessing._data.MinMaxScaler'>\n"
     ]
    }
   ],
   "source": [
    "import pickle\n",
    "\n",
    "with open('scalernew.pkl', 'rb') as file:\n",
    "    scaler = pickle.load(file)\n",
    "    print(type(scaler))  # Harus menunjukkan <class 'sklearn.preprocessing._data.MinMaxScaler'>\n"
   ]
  }
 ],
 "metadata": {
  "kernelspec": {
   "display_name": "Python 3",
   "language": "python",
   "name": "python3"
  },
  "language_info": {
   "codemirror_mode": {
    "name": "ipython",
    "version": 3
   },
   "file_extension": ".py",
   "mimetype": "text/x-python",
   "name": "python",
   "nbconvert_exporter": "python",
   "pygments_lexer": "ipython3",
   "version": "3.12.7"
  }
 },
 "nbformat": 4,
 "nbformat_minor": 2
}
