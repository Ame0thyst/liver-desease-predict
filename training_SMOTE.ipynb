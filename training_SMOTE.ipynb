{
  "cells": [
    {
      "cell_type": "markdown",
      "metadata": {
        "colab_type": "text",
        "id": "view-in-github"
      },
      "source": [
        "<a href=\"https://colab.research.google.com/github/Ame0thyst/liver-desease-predict/blob/main/training_SMOTE.ipynb\" target=\"_parent\"><img src=\"https://colab.research.google.com/assets/colab-badge.svg\" alt=\"Open In Colab\"/></a>"
      ]
    },
    {
      "cell_type": "code",
      "execution_count": 1,
      "metadata": {
        "id": "mKQTloYaE-aI"
      },
      "outputs": [],
      "source": [
        "import pandas as pd\n",
        "import numpy as np\n",
        "from sklearn.model_selection import train_test_split, GridSearchCV\n",
        "from sklearn.metrics import accuracy_score\n",
        "import xgboost as xgb\n",
        "\n",
        "# Load dataset\n",
        "# Gantilah 'dataset.csv' dengan nama file dataset Anda\n",
        "df = pd.read_csv('/content/smote.csv')\n",
        "\n",
        "\n",
        "\n"
      ]
    },
    {
      "cell_type": "code",
      "execution_count": 2,
      "metadata": {
        "colab": {
          "base_uri": "https://localhost:8080/",
          "height": 443
        },
        "id": "LRrCYeZoTBzp",
        "outputId": "3beaeb66-9ea4-4b91-9edf-91488e030e69"
      },
      "outputs": [
        {
          "data": {
            "application/vnd.google.colaboratory.intrinsic+json": {
              "summary": "{\n  \"name\": \"df\",\n  \"rows\": 38956,\n  \"fields\": [\n    {\n      \"column\": \"age_of_the_patient\",\n      \"properties\": {\n        \"dtype\": \"number\",\n        \"std\": 0.18511660230236723,\n        \"min\": 0.0,\n        \"max\": 1.0,\n        \"num_unique_values\": 7665,\n        \"samples\": [\n          0.54095425428383,\n          0.5958524212409764,\n          0.4716330465067381\n        ],\n        \"semantic_type\": \"\",\n        \"description\": \"\"\n      }\n    },\n    {\n      \"column\": \"gender_of_the_patient\",\n      \"properties\": {\n        \"dtype\": \"number\",\n        \"std\": 0.4394991577537737,\n        \"min\": 0.0,\n        \"max\": 1.0,\n        \"num_unique_values\": 2,\n        \"samples\": [\n          1.0,\n          0.0\n        ],\n        \"semantic_type\": \"\",\n        \"description\": \"\"\n      }\n    },\n    {\n      \"column\": \"total_bilirubin\",\n      \"properties\": {\n        \"dtype\": \"number\",\n        \"std\": 0.07261495759861174,\n        \"min\": 0.0,\n        \"max\": 1.0,\n        \"num_unique_values\": 3047,\n        \"samples\": [\n          0.002948038556951,\n          0.0043615934589743\n        ],\n        \"semantic_type\": \"\",\n        \"description\": \"\"\n      }\n    },\n    {\n      \"column\": \"direct_bilirubin\",\n      \"properties\": {\n        \"dtype\": \"number\",\n        \"std\": 0.12706676999472208,\n        \"min\": 0.0,\n        \"max\": 1.0000000000000002,\n        \"num_unique_values\": 2391,\n        \"samples\": [\n          0.0042738297421182,\n          0.0077014425400199\n        ],\n        \"semantic_type\": \"\",\n        \"description\": \"\"\n      }\n    },\n    {\n      \"column\": \"alkphos_alkaline_phosphotase\",\n      \"properties\": {\n        \"dtype\": \"number\",\n        \"std\": 0.10587523055733176,\n        \"min\": 0.0,\n        \"max\": 1.0,\n        \"num_unique_values\": 3603,\n        \"samples\": [\n          0.061989876768239,\n          0.0477385585969331\n        ],\n        \"semantic_type\": \"\",\n        \"description\": \"\"\n      }\n    },\n    {\n      \"column\": \"sgpt_alamine_aminotransferase\",\n      \"properties\": {\n        \"dtype\": \"number\",\n        \"std\": 0.07726020059905664,\n        \"min\": 0.0,\n        \"max\": 1.0000000000000002,\n        \"num_unique_values\": 3414,\n        \"samples\": [\n          0.0486783575806867,\n          0.0069910235947927\n        ],\n        \"semantic_type\": \"\",\n        \"description\": \"\"\n      }\n    },\n    {\n      \"column\": \"sgot_aspartate_aminotransferase\",\n      \"properties\": {\n        \"dtype\": \"number\",\n        \"std\": 0.048762742816465525,\n        \"min\": 0.0,\n        \"max\": 1.0,\n        \"num_unique_values\": 3446,\n        \"samples\": [\n          0.001192036463173,\n          0.0140272413092091\n        ],\n        \"semantic_type\": \"\",\n        \"description\": \"\"\n      }\n    },\n    {\n      \"column\": \"total_protiens\",\n      \"properties\": {\n        \"dtype\": \"number\",\n        \"std\": 0.15549120042652514,\n        \"min\": 0.0,\n        \"max\": 1.0,\n        \"num_unique_values\": 2518,\n        \"samples\": [\n          0.7648613018493082,\n          0.1618479475009585\n        ],\n        \"semantic_type\": \"\",\n        \"description\": \"\"\n      }\n    },\n    {\n      \"column\": \"alb_albumin\",\n      \"properties\": {\n        \"dtype\": \"number\",\n        \"std\": 0.17243287895882958,\n        \"min\": 0.0,\n        \"max\": 1.0000000000000002,\n        \"num_unique_values\": 2024,\n        \"samples\": [\n          0.4762238348240687,\n          0.6136195050098443\n        ],\n        \"semantic_type\": \"\",\n        \"description\": \"\"\n      }\n    },\n    {\n      \"column\": \"a_g_ratio_albumin_and_globulin_ratio\",\n      \"properties\": {\n        \"dtype\": \"number\",\n        \"std\": 0.12597575491077262,\n        \"min\": 0.0,\n        \"max\": 1.0,\n        \"num_unique_values\": 1388,\n        \"samples\": [\n          0.2786556026425936,\n          0.3992272638586264\n        ],\n        \"semantic_type\": \"\",\n        \"description\": \"\"\n      }\n    },\n    {\n      \"column\": \"result\",\n      \"properties\": {\n        \"dtype\": \"number\",\n        \"std\": 0.5000064176202184,\n        \"min\": 0.0,\n        \"max\": 1.0,\n        \"num_unique_values\": 2,\n        \"samples\": [\n          1.0,\n          0.0\n        ],\n        \"semantic_type\": \"\",\n        \"description\": \"\"\n      }\n    }\n  ]\n}",
              "type": "dataframe",
              "variable_name": "df"
            },
            "text/html": [
              "\n",
              "  <div id=\"df-8c983009-b43d-4937-8914-029323ff264f\" class=\"colab-df-container\">\n",
              "    <div>\n",
              "<style scoped>\n",
              "    .dataframe tbody tr th:only-of-type {\n",
              "        vertical-align: middle;\n",
              "    }\n",
              "\n",
              "    .dataframe tbody tr th {\n",
              "        vertical-align: top;\n",
              "    }\n",
              "\n",
              "    .dataframe thead th {\n",
              "        text-align: right;\n",
              "    }\n",
              "</style>\n",
              "<table border=\"1\" class=\"dataframe\">\n",
              "  <thead>\n",
              "    <tr style=\"text-align: right;\">\n",
              "      <th></th>\n",
              "      <th>age_of_the_patient</th>\n",
              "      <th>gender_of_the_patient</th>\n",
              "      <th>total_bilirubin</th>\n",
              "      <th>direct_bilirubin</th>\n",
              "      <th>alkphos_alkaline_phosphotase</th>\n",
              "      <th>sgpt_alamine_aminotransferase</th>\n",
              "      <th>sgot_aspartate_aminotransferase</th>\n",
              "      <th>total_protiens</th>\n",
              "      <th>alb_albumin</th>\n",
              "      <th>a_g_ratio_albumin_and_globulin_ratio</th>\n",
              "      <th>result</th>\n",
              "    </tr>\n",
              "  </thead>\n",
              "  <tbody>\n",
              "    <tr>\n",
              "      <th>0</th>\n",
              "      <td>0.709302</td>\n",
              "      <td>0.0</td>\n",
              "      <td>0.004021</td>\n",
              "      <td>0.000000</td>\n",
              "      <td>0.060576</td>\n",
              "      <td>0.003015</td>\n",
              "      <td>0.001626</td>\n",
              "      <td>0.594203</td>\n",
              "      <td>0.521739</td>\n",
              "      <td>0.240000</td>\n",
              "      <td>0.0</td>\n",
              "    </tr>\n",
              "    <tr>\n",
              "      <th>1</th>\n",
              "      <td>0.674419</td>\n",
              "      <td>1.0</td>\n",
              "      <td>0.140751</td>\n",
              "      <td>0.275510</td>\n",
              "      <td>0.310699</td>\n",
              "      <td>0.027136</td>\n",
              "      <td>0.018296</td>\n",
              "      <td>0.695652</td>\n",
              "      <td>0.500000</td>\n",
              "      <td>0.176000</td>\n",
              "      <td>0.0</td>\n",
              "    </tr>\n",
              "    <tr>\n",
              "      <th>2</th>\n",
              "      <td>0.674419</td>\n",
              "      <td>1.0</td>\n",
              "      <td>0.092493</td>\n",
              "      <td>0.204082</td>\n",
              "      <td>0.208598</td>\n",
              "      <td>0.025126</td>\n",
              "      <td>0.011791</td>\n",
              "      <td>0.623188</td>\n",
              "      <td>0.521739</td>\n",
              "      <td>0.236000</td>\n",
              "      <td>0.0</td>\n",
              "    </tr>\n",
              "    <tr>\n",
              "      <th>3</th>\n",
              "      <td>0.627907</td>\n",
              "      <td>1.0</td>\n",
              "      <td>0.008043</td>\n",
              "      <td>0.015306</td>\n",
              "      <td>0.058134</td>\n",
              "      <td>0.002010</td>\n",
              "      <td>0.002033</td>\n",
              "      <td>0.594203</td>\n",
              "      <td>0.543478</td>\n",
              "      <td>0.280000</td>\n",
              "      <td>0.0</td>\n",
              "    </tr>\n",
              "    <tr>\n",
              "      <th>4</th>\n",
              "      <td>0.790698</td>\n",
              "      <td>1.0</td>\n",
              "      <td>0.046917</td>\n",
              "      <td>0.096939</td>\n",
              "      <td>0.064485</td>\n",
              "      <td>0.008543</td>\n",
              "      <td>0.009961</td>\n",
              "      <td>0.666667</td>\n",
              "      <td>0.326087</td>\n",
              "      <td>0.040000</td>\n",
              "      <td>0.0</td>\n",
              "    </tr>\n",
              "    <tr>\n",
              "      <th>...</th>\n",
              "      <td>...</td>\n",
              "      <td>...</td>\n",
              "      <td>...</td>\n",
              "      <td>...</td>\n",
              "      <td>...</td>\n",
              "      <td>...</td>\n",
              "      <td>...</td>\n",
              "      <td>...</td>\n",
              "      <td>...</td>\n",
              "      <td>...</td>\n",
              "      <td>...</td>\n",
              "    </tr>\n",
              "    <tr>\n",
              "      <th>38951</th>\n",
              "      <td>0.506189</td>\n",
              "      <td>0.0</td>\n",
              "      <td>0.092493</td>\n",
              "      <td>0.178571</td>\n",
              "      <td>0.741085</td>\n",
              "      <td>0.039196</td>\n",
              "      <td>0.010978</td>\n",
              "      <td>0.420290</td>\n",
              "      <td>0.304348</td>\n",
              "      <td>0.120000</td>\n",
              "      <td>1.0</td>\n",
              "    </tr>\n",
              "    <tr>\n",
              "      <th>38952</th>\n",
              "      <td>0.697674</td>\n",
              "      <td>0.0</td>\n",
              "      <td>0.005856</td>\n",
              "      <td>0.005102</td>\n",
              "      <td>0.063431</td>\n",
              "      <td>0.006585</td>\n",
              "      <td>0.002161</td>\n",
              "      <td>0.531655</td>\n",
              "      <td>0.586957</td>\n",
              "      <td>0.372633</td>\n",
              "      <td>1.0</td>\n",
              "    </tr>\n",
              "    <tr>\n",
              "      <th>38953</th>\n",
              "      <td>0.357689</td>\n",
              "      <td>1.0</td>\n",
              "      <td>0.005362</td>\n",
              "      <td>0.005102</td>\n",
              "      <td>0.048852</td>\n",
              "      <td>0.004020</td>\n",
              "      <td>0.001830</td>\n",
              "      <td>0.521739</td>\n",
              "      <td>0.413043</td>\n",
              "      <td>0.200000</td>\n",
              "      <td>1.0</td>\n",
              "    </tr>\n",
              "    <tr>\n",
              "      <th>38954</th>\n",
              "      <td>0.674419</td>\n",
              "      <td>1.0</td>\n",
              "      <td>0.006702</td>\n",
              "      <td>0.005102</td>\n",
              "      <td>0.062042</td>\n",
              "      <td>0.015075</td>\n",
              "      <td>0.005082</td>\n",
              "      <td>0.666667</td>\n",
              "      <td>0.826087</td>\n",
              "      <td>0.600000</td>\n",
              "      <td>1.0</td>\n",
              "    </tr>\n",
              "    <tr>\n",
              "      <th>38955</th>\n",
              "      <td>0.657358</td>\n",
              "      <td>1.0</td>\n",
              "      <td>0.005362</td>\n",
              "      <td>0.005102</td>\n",
              "      <td>0.063019</td>\n",
              "      <td>0.009045</td>\n",
              "      <td>0.005082</td>\n",
              "      <td>0.608696</td>\n",
              "      <td>0.543478</td>\n",
              "      <td>0.240000</td>\n",
              "      <td>1.0</td>\n",
              "    </tr>\n",
              "  </tbody>\n",
              "</table>\n",
              "<p>38956 rows × 11 columns</p>\n",
              "</div>\n",
              "    <div class=\"colab-df-buttons\">\n",
              "\n",
              "  <div class=\"colab-df-container\">\n",
              "    <button class=\"colab-df-convert\" onclick=\"convertToInteractive('df-8c983009-b43d-4937-8914-029323ff264f')\"\n",
              "            title=\"Convert this dataframe to an interactive table.\"\n",
              "            style=\"display:none;\">\n",
              "\n",
              "  <svg xmlns=\"http://www.w3.org/2000/svg\" height=\"24px\" viewBox=\"0 -960 960 960\">\n",
              "    <path d=\"M120-120v-720h720v720H120Zm60-500h600v-160H180v160Zm220 220h160v-160H400v160Zm0 220h160v-160H400v160ZM180-400h160v-160H180v160Zm440 0h160v-160H620v160ZM180-180h160v-160H180v160Zm440 0h160v-160H620v160Z\"/>\n",
              "  </svg>\n",
              "    </button>\n",
              "\n",
              "  <style>\n",
              "    .colab-df-container {\n",
              "      display:flex;\n",
              "      gap: 12px;\n",
              "    }\n",
              "\n",
              "    .colab-df-convert {\n",
              "      background-color: #E8F0FE;\n",
              "      border: none;\n",
              "      border-radius: 50%;\n",
              "      cursor: pointer;\n",
              "      display: none;\n",
              "      fill: #1967D2;\n",
              "      height: 32px;\n",
              "      padding: 0 0 0 0;\n",
              "      width: 32px;\n",
              "    }\n",
              "\n",
              "    .colab-df-convert:hover {\n",
              "      background-color: #E2EBFA;\n",
              "      box-shadow: 0px 1px 2px rgba(60, 64, 67, 0.3), 0px 1px 3px 1px rgba(60, 64, 67, 0.15);\n",
              "      fill: #174EA6;\n",
              "    }\n",
              "\n",
              "    .colab-df-buttons div {\n",
              "      margin-bottom: 4px;\n",
              "    }\n",
              "\n",
              "    [theme=dark] .colab-df-convert {\n",
              "      background-color: #3B4455;\n",
              "      fill: #D2E3FC;\n",
              "    }\n",
              "\n",
              "    [theme=dark] .colab-df-convert:hover {\n",
              "      background-color: #434B5C;\n",
              "      box-shadow: 0px 1px 3px 1px rgba(0, 0, 0, 0.15);\n",
              "      filter: drop-shadow(0px 1px 2px rgba(0, 0, 0, 0.3));\n",
              "      fill: #FFFFFF;\n",
              "    }\n",
              "  </style>\n",
              "\n",
              "    <script>\n",
              "      const buttonEl =\n",
              "        document.querySelector('#df-8c983009-b43d-4937-8914-029323ff264f button.colab-df-convert');\n",
              "      buttonEl.style.display =\n",
              "        google.colab.kernel.accessAllowed ? 'block' : 'none';\n",
              "\n",
              "      async function convertToInteractive(key) {\n",
              "        const element = document.querySelector('#df-8c983009-b43d-4937-8914-029323ff264f');\n",
              "        const dataTable =\n",
              "          await google.colab.kernel.invokeFunction('convertToInteractive',\n",
              "                                                    [key], {});\n",
              "        if (!dataTable) return;\n",
              "\n",
              "        const docLinkHtml = 'Like what you see? Visit the ' +\n",
              "          '<a target=\"_blank\" href=https://colab.research.google.com/notebooks/data_table.ipynb>data table notebook</a>'\n",
              "          + ' to learn more about interactive tables.';\n",
              "        element.innerHTML = '';\n",
              "        dataTable['output_type'] = 'display_data';\n",
              "        await google.colab.output.renderOutput(dataTable, element);\n",
              "        const docLink = document.createElement('div');\n",
              "        docLink.innerHTML = docLinkHtml;\n",
              "        element.appendChild(docLink);\n",
              "      }\n",
              "    </script>\n",
              "  </div>\n",
              "\n",
              "\n",
              "<div id=\"df-dee0210a-6cad-4d02-aa96-e9b6bd0af542\">\n",
              "  <button class=\"colab-df-quickchart\" onclick=\"quickchart('df-dee0210a-6cad-4d02-aa96-e9b6bd0af542')\"\n",
              "            title=\"Suggest charts\"\n",
              "            style=\"display:none;\">\n",
              "\n",
              "<svg xmlns=\"http://www.w3.org/2000/svg\" height=\"24px\"viewBox=\"0 0 24 24\"\n",
              "     width=\"24px\">\n",
              "    <g>\n",
              "        <path d=\"M19 3H5c-1.1 0-2 .9-2 2v14c0 1.1.9 2 2 2h14c1.1 0 2-.9 2-2V5c0-1.1-.9-2-2-2zM9 17H7v-7h2v7zm4 0h-2V7h2v10zm4 0h-2v-4h2v4z\"/>\n",
              "    </g>\n",
              "</svg>\n",
              "  </button>\n",
              "\n",
              "<style>\n",
              "  .colab-df-quickchart {\n",
              "      --bg-color: #E8F0FE;\n",
              "      --fill-color: #1967D2;\n",
              "      --hover-bg-color: #E2EBFA;\n",
              "      --hover-fill-color: #174EA6;\n",
              "      --disabled-fill-color: #AAA;\n",
              "      --disabled-bg-color: #DDD;\n",
              "  }\n",
              "\n",
              "  [theme=dark] .colab-df-quickchart {\n",
              "      --bg-color: #3B4455;\n",
              "      --fill-color: #D2E3FC;\n",
              "      --hover-bg-color: #434B5C;\n",
              "      --hover-fill-color: #FFFFFF;\n",
              "      --disabled-bg-color: #3B4455;\n",
              "      --disabled-fill-color: #666;\n",
              "  }\n",
              "\n",
              "  .colab-df-quickchart {\n",
              "    background-color: var(--bg-color);\n",
              "    border: none;\n",
              "    border-radius: 50%;\n",
              "    cursor: pointer;\n",
              "    display: none;\n",
              "    fill: var(--fill-color);\n",
              "    height: 32px;\n",
              "    padding: 0;\n",
              "    width: 32px;\n",
              "  }\n",
              "\n",
              "  .colab-df-quickchart:hover {\n",
              "    background-color: var(--hover-bg-color);\n",
              "    box-shadow: 0 1px 2px rgba(60, 64, 67, 0.3), 0 1px 3px 1px rgba(60, 64, 67, 0.15);\n",
              "    fill: var(--button-hover-fill-color);\n",
              "  }\n",
              "\n",
              "  .colab-df-quickchart-complete:disabled,\n",
              "  .colab-df-quickchart-complete:disabled:hover {\n",
              "    background-color: var(--disabled-bg-color);\n",
              "    fill: var(--disabled-fill-color);\n",
              "    box-shadow: none;\n",
              "  }\n",
              "\n",
              "  .colab-df-spinner {\n",
              "    border: 2px solid var(--fill-color);\n",
              "    border-color: transparent;\n",
              "    border-bottom-color: var(--fill-color);\n",
              "    animation:\n",
              "      spin 1s steps(1) infinite;\n",
              "  }\n",
              "\n",
              "  @keyframes spin {\n",
              "    0% {\n",
              "      border-color: transparent;\n",
              "      border-bottom-color: var(--fill-color);\n",
              "      border-left-color: var(--fill-color);\n",
              "    }\n",
              "    20% {\n",
              "      border-color: transparent;\n",
              "      border-left-color: var(--fill-color);\n",
              "      border-top-color: var(--fill-color);\n",
              "    }\n",
              "    30% {\n",
              "      border-color: transparent;\n",
              "      border-left-color: var(--fill-color);\n",
              "      border-top-color: var(--fill-color);\n",
              "      border-right-color: var(--fill-color);\n",
              "    }\n",
              "    40% {\n",
              "      border-color: transparent;\n",
              "      border-right-color: var(--fill-color);\n",
              "      border-top-color: var(--fill-color);\n",
              "    }\n",
              "    60% {\n",
              "      border-color: transparent;\n",
              "      border-right-color: var(--fill-color);\n",
              "    }\n",
              "    80% {\n",
              "      border-color: transparent;\n",
              "      border-right-color: var(--fill-color);\n",
              "      border-bottom-color: var(--fill-color);\n",
              "    }\n",
              "    90% {\n",
              "      border-color: transparent;\n",
              "      border-bottom-color: var(--fill-color);\n",
              "    }\n",
              "  }\n",
              "</style>\n",
              "\n",
              "  <script>\n",
              "    async function quickchart(key) {\n",
              "      const quickchartButtonEl =\n",
              "        document.querySelector('#' + key + ' button');\n",
              "      quickchartButtonEl.disabled = true;  // To prevent multiple clicks.\n",
              "      quickchartButtonEl.classList.add('colab-df-spinner');\n",
              "      try {\n",
              "        const charts = await google.colab.kernel.invokeFunction(\n",
              "            'suggestCharts', [key], {});\n",
              "      } catch (error) {\n",
              "        console.error('Error during call to suggestCharts:', error);\n",
              "      }\n",
              "      quickchartButtonEl.classList.remove('colab-df-spinner');\n",
              "      quickchartButtonEl.classList.add('colab-df-quickchart-complete');\n",
              "    }\n",
              "    (() => {\n",
              "      let quickchartButtonEl =\n",
              "        document.querySelector('#df-dee0210a-6cad-4d02-aa96-e9b6bd0af542 button');\n",
              "      quickchartButtonEl.style.display =\n",
              "        google.colab.kernel.accessAllowed ? 'block' : 'none';\n",
              "    })();\n",
              "  </script>\n",
              "</div>\n",
              "\n",
              "  <div id=\"id_bd151771-2c29-4288-acd0-7d4756a0cc60\">\n",
              "    <style>\n",
              "      .colab-df-generate {\n",
              "        background-color: #E8F0FE;\n",
              "        border: none;\n",
              "        border-radius: 50%;\n",
              "        cursor: pointer;\n",
              "        display: none;\n",
              "        fill: #1967D2;\n",
              "        height: 32px;\n",
              "        padding: 0 0 0 0;\n",
              "        width: 32px;\n",
              "      }\n",
              "\n",
              "      .colab-df-generate:hover {\n",
              "        background-color: #E2EBFA;\n",
              "        box-shadow: 0px 1px 2px rgba(60, 64, 67, 0.3), 0px 1px 3px 1px rgba(60, 64, 67, 0.15);\n",
              "        fill: #174EA6;\n",
              "      }\n",
              "\n",
              "      [theme=dark] .colab-df-generate {\n",
              "        background-color: #3B4455;\n",
              "        fill: #D2E3FC;\n",
              "      }\n",
              "\n",
              "      [theme=dark] .colab-df-generate:hover {\n",
              "        background-color: #434B5C;\n",
              "        box-shadow: 0px 1px 3px 1px rgba(0, 0, 0, 0.15);\n",
              "        filter: drop-shadow(0px 1px 2px rgba(0, 0, 0, 0.3));\n",
              "        fill: #FFFFFF;\n",
              "      }\n",
              "    </style>\n",
              "    <button class=\"colab-df-generate\" onclick=\"generateWithVariable('df')\"\n",
              "            title=\"Generate code using this dataframe.\"\n",
              "            style=\"display:none;\">\n",
              "\n",
              "  <svg xmlns=\"http://www.w3.org/2000/svg\" height=\"24px\"viewBox=\"0 0 24 24\"\n",
              "       width=\"24px\">\n",
              "    <path d=\"M7,19H8.4L18.45,9,17,7.55,7,17.6ZM5,21V16.75L18.45,3.32a2,2,0,0,1,2.83,0l1.4,1.43a1.91,1.91,0,0,1,.58,1.4,1.91,1.91,0,0,1-.58,1.4L9.25,21ZM18.45,9,17,7.55Zm-12,3A5.31,5.31,0,0,0,4.9,8.1,5.31,5.31,0,0,0,1,6.5,5.31,5.31,0,0,0,4.9,4.9,5.31,5.31,0,0,0,6.5,1,5.31,5.31,0,0,0,8.1,4.9,5.31,5.31,0,0,0,12,6.5,5.46,5.46,0,0,0,6.5,12Z\"/>\n",
              "  </svg>\n",
              "    </button>\n",
              "    <script>\n",
              "      (() => {\n",
              "      const buttonEl =\n",
              "        document.querySelector('#id_bd151771-2c29-4288-acd0-7d4756a0cc60 button.colab-df-generate');\n",
              "      buttonEl.style.display =\n",
              "        google.colab.kernel.accessAllowed ? 'block' : 'none';\n",
              "\n",
              "      buttonEl.onclick = () => {\n",
              "        google.colab.notebook.generateWithVariable('df');\n",
              "      }\n",
              "      })();\n",
              "    </script>\n",
              "  </div>\n",
              "\n",
              "    </div>\n",
              "  </div>\n"
            ],
            "text/plain": [
              "       age_of_the_patient  gender_of_the_patient  total_bilirubin  \\\n",
              "0                0.709302                    0.0         0.004021   \n",
              "1                0.674419                    1.0         0.140751   \n",
              "2                0.674419                    1.0         0.092493   \n",
              "3                0.627907                    1.0         0.008043   \n",
              "4                0.790698                    1.0         0.046917   \n",
              "...                   ...                    ...              ...   \n",
              "38951            0.506189                    0.0         0.092493   \n",
              "38952            0.697674                    0.0         0.005856   \n",
              "38953            0.357689                    1.0         0.005362   \n",
              "38954            0.674419                    1.0         0.006702   \n",
              "38955            0.657358                    1.0         0.005362   \n",
              "\n",
              "       direct_bilirubin  alkphos_alkaline_phosphotase  \\\n",
              "0              0.000000                      0.060576   \n",
              "1              0.275510                      0.310699   \n",
              "2              0.204082                      0.208598   \n",
              "3              0.015306                      0.058134   \n",
              "4              0.096939                      0.064485   \n",
              "...                 ...                           ...   \n",
              "38951          0.178571                      0.741085   \n",
              "38952          0.005102                      0.063431   \n",
              "38953          0.005102                      0.048852   \n",
              "38954          0.005102                      0.062042   \n",
              "38955          0.005102                      0.063019   \n",
              "\n",
              "       sgpt_alamine_aminotransferase  sgot_aspartate_aminotransferase  \\\n",
              "0                           0.003015                         0.001626   \n",
              "1                           0.027136                         0.018296   \n",
              "2                           0.025126                         0.011791   \n",
              "3                           0.002010                         0.002033   \n",
              "4                           0.008543                         0.009961   \n",
              "...                              ...                              ...   \n",
              "38951                       0.039196                         0.010978   \n",
              "38952                       0.006585                         0.002161   \n",
              "38953                       0.004020                         0.001830   \n",
              "38954                       0.015075                         0.005082   \n",
              "38955                       0.009045                         0.005082   \n",
              "\n",
              "       total_protiens  alb_albumin  a_g_ratio_albumin_and_globulin_ratio  \\\n",
              "0            0.594203     0.521739                              0.240000   \n",
              "1            0.695652     0.500000                              0.176000   \n",
              "2            0.623188     0.521739                              0.236000   \n",
              "3            0.594203     0.543478                              0.280000   \n",
              "4            0.666667     0.326087                              0.040000   \n",
              "...               ...          ...                                   ...   \n",
              "38951        0.420290     0.304348                              0.120000   \n",
              "38952        0.531655     0.586957                              0.372633   \n",
              "38953        0.521739     0.413043                              0.200000   \n",
              "38954        0.666667     0.826087                              0.600000   \n",
              "38955        0.608696     0.543478                              0.240000   \n",
              "\n",
              "       result  \n",
              "0         0.0  \n",
              "1         0.0  \n",
              "2         0.0  \n",
              "3         0.0  \n",
              "4         0.0  \n",
              "...       ...  \n",
              "38951     1.0  \n",
              "38952     1.0  \n",
              "38953     1.0  \n",
              "38954     1.0  \n",
              "38955     1.0  \n",
              "\n",
              "[38956 rows x 11 columns]"
            ]
          },
          "execution_count": 2,
          "metadata": {},
          "output_type": "execute_result"
        }
      ],
      "source": [
        "df"
      ]
    },
    {
      "cell_type": "code",
      "execution_count": 4,
      "metadata": {
        "colab": {
          "base_uri": "https://localhost:8080/"
        },
        "id": "s7E5uAueauHc",
        "outputId": "c7126fd5-8c51-4e5a-a32d-1655b8168239"
      },
      "outputs": [
        {
          "name": "stdout",
          "output_type": "stream",
          "text": [
            "Jumlah nilai NaN di setiap kolom:\n",
            "age_of_the_patient                      0\n",
            "gender_of_the_patient                   0\n",
            "total_bilirubin                         0\n",
            "direct_bilirubin                        0\n",
            "alkphos_alkaline_phosphotase            0\n",
            "sgpt_alamine_aminotransferase           0\n",
            "sgot_aspartate_aminotransferase         0\n",
            "total_protiens                          0\n",
            "alb_albumin                             0\n",
            "a_g_ratio_albumin_and_globulin_ratio    0\n",
            "result                                  0\n",
            "dtype: int64\n"
          ]
        }
      ],
      "source": [
        "# Memeriksa jumlah nilai NaN di setiap kolom\n",
        "print(\"Jumlah nilai NaN di setiap kolom:\")\n",
        "print(df.isna().sum())\n"
      ]
    },
    {
      "cell_type": "code",
      "execution_count": 5,
      "metadata": {
        "colab": {
          "base_uri": "https://localhost:8080/"
        },
        "id": "JsyVjk_1S8wv",
        "outputId": "2bfe9af0-9b09-4563-e6f0-8f487197c81d"
      },
      "outputs": [
        {
          "name": "stdout",
          "output_type": "stream",
          "text": [
            "Kelas unik di 'Result': [0. 1.]\n",
            "Akurasi model awal: 0.9970\n",
            "Fitting 10 folds for each of 243 candidates, totalling 2430 fits\n",
            "Hasil terbaik dari Grid Search:\n",
            "Best parameters: {'colsample_bytree': 0.8, 'learning_rate': 0.2, 'max_depth': 7, 'n_estimators': 200, 'subsample': 0.8}\n",
            "Best cross-validation score: 0.9996\n",
            "Akurasi model terbaik: 0.9997\n"
          ]
        }
      ],
      "source": [
        "# Misalkan fitur lainnya ada di semua kolom kecuali kolom 'Result'\n",
        "X = df.drop(columns=['result'])  # semua kolom kecuali 'Result'\n",
        "y = df['result']                  # kolom target 'Result'\n",
        "\n",
        "# Memeriksa kelas unik di 'Result'\n",
        "print(\"Kelas unik di 'Result':\", np.unique(y))\n",
        "\n",
        "# Jika kelas hanya 1 dan 2, kita dapat menggunakan multi:softmax\n",
        "# Membagi data menjadi train (80%) dan test (20%)\n",
        "X_train, X_test, y_train, y_test = train_test_split(X, y, test_size=0.2, random_state=42)\n",
        "\n",
        "# 1. Menentukan hyperparameter awal\n",
        "params = {\n",
        "    'objective': 'multi:softmax',  # untuk klasifikasi multikelas\n",
        "    'num_class': len(np.unique(y)), # jumlah kelas unik dalam 'Result'\n",
        "    'eval_metric': 'mlogloss',      # metrik untuk klasifikasi multikelas\n",
        "    'learning_rate': 0.1,\n",
        "    'max_depth': 6,\n",
        "    'n_estimators': 100,\n",
        "    'subsample': 0.8,\n",
        "    'colsample_bytree': 0.8,\n",
        "    'seed': 42\n",
        "}\n",
        "\n",
        "# 2. Melatih model awal\n",
        "model = xgb.XGBClassifier(**params)\n",
        "model.fit(X_train, y_train)\n",
        "\n",
        "# 3. Evaluasi model awal\n",
        "y_pred = model.predict(X_test)\n",
        "accuracy = accuracy_score(y_test, y_pred)\n",
        "print(f'Akurasi model awal: {accuracy:.4f}')\n",
        "\n",
        "# 4. Hyperparameter tuning dengan Grid Search\n",
        "param_grid = {\n",
        "    'learning_rate': [0.01, 0.1, 0.2],\n",
        "    'max_depth': [3, 5, 7],\n",
        "    'n_estimators': [50, 100, 200],\n",
        "    'subsample': [0.6, 0.8, 1.0],\n",
        "    'colsample_bytree': [0.6, 0.8, 1.0]\n",
        "}\n",
        "\n",
        "grid_search = GridSearchCV(estimator=xgb.XGBClassifier(**params),\n",
        "                           param_grid=param_grid,\n",
        "                           scoring='accuracy',\n",
        "                           cv=10,\n",
        "                           verbose=1,\n",
        "                           n_jobs=-1)\n",
        "\n",
        "# Melatih Grid Search\n",
        "grid_search.fit(X_train, y_train)\n",
        "\n",
        "# 5. Menampilkan hasil terbaik\n",
        "print(\"Hasil terbaik dari Grid Search:\")\n",
        "print(f'Best parameters: {grid_search.best_params_}')\n",
        "print(f'Best cross-validation score: {grid_search.best_score_:.4f}')\n",
        "\n",
        "# 6. Evaluasi model terbaik di test set\n",
        "best_model = grid_search.best_estimator_\n",
        "y_pred_best = best_model.predict(X_test)\n",
        "best_accuracy = accuracy_score(y_test, y_pred_best)\n",
        "print(f'Akurasi model terbaik: {best_accuracy:.4f}')"
      ]
    },
    {
      "cell_type": "code",
      "execution_count": 6,
      "metadata": {
        "colab": {
          "base_uri": "https://localhost:8080/",
          "height": 728
        },
        "id": "Y9B7H-o1Iw-s",
        "outputId": "f7f429a1-ac00-41a2-cc51-2df0bf298e6d"
      },
      "outputs": [
        {
          "data": {
            "image/png": "[encoded data removed]",
            "text/plain": [
              "<Figure size 800x600 with 2 Axes>"
            ]
          },
          "metadata": {},
          "output_type": "display_data"
        },
        {
          "name": "stdout",
          "output_type": "stream",
          "text": [
            "              precision    recall  f1-score   support\n",
            "\n",
            "         0.0       1.00      1.00      1.00      3939\n",
            "         1.0       1.00      1.00      1.00      3853\n",
            "\n",
            "    accuracy                           1.00      7792\n",
            "   macro avg       1.00      1.00      1.00      7792\n",
            "weighted avg       1.00      1.00      1.00      7792\n",
            "\n"
          ]
        }
      ],
      "source": [
        "import xgboost as xgb\n",
        "from sklearn.model_selection import train_test_split, GridSearchCV\n",
        "from sklearn.metrics import confusion_matrix, classification_report\n",
        "import seaborn as sns\n",
        "import matplotlib.pyplot as plt\n",
        "# Menghitung confusion matrix\n",
        "cm = confusion_matrix(y_test, y_pred)\n",
        "\n",
        "# Menampilkan confusion matrix\n",
        "plt.figure(figsize=(8, 6))\n",
        "sns.heatmap(cm, annot=True, fmt='d', cmap='Blues', xticklabels=['Class 0', 'Class 1'], yticklabels=['Class 0', 'Class 1'])\n",
        "plt.xlabel('Predicted')\n",
        "plt.ylabel('True')\n",
        "plt.title('Confusion Matrix')\n",
        "plt.show()\n",
        "\n",
        "# Menampilkan classification report\n",
        "print(classification_report(y_test, y_pred))"
      ]
    },
    {
      "cell_type": "code",
      "execution_count": 7,
      "metadata": {
        "colab": {
          "base_uri": "https://localhost:8080/"
        },
        "id": "HIy8jpo8JKfv",
        "outputId": "68ab4d9f-981f-4f4b-e4ee-93184407ac0f"
      },
      "outputs": [
        {
          "name": "stdout",
          "output_type": "stream",
          "text": [
            "Akurasi: 0.9970482546201233\n",
            "Precision: 0.9970523091633909\n",
            "Recall: 0.9970482546201233\n",
            "F1 Score: 0.9970482947322039\n",
            "AUC: 0.9998765893079955\n"
          ]
        }
      ],
      "source": [
        "from sklearn.metrics import accuracy_score, precision_score, recall_score, f1_score, roc_auc_score\n",
        "\n",
        "# Metrik evaluasi\n",
        "accuracy = accuracy_score(y_test, y_pred)\n",
        "precision = precision_score(y_test, y_pred, average='weighted')\n",
        "recall = recall_score(y_test, y_pred, average='weighted')\n",
        "f1 = f1_score(y_test, y_pred, average='weighted')\n",
        "roc_auc = roc_auc_score(y_test, model.predict_proba(X_test)[:, 1])\n",
        "\n",
        "# Menampilkan hasil\n",
        "print(\"Akurasi:\", accuracy)\n",
        "print(\"Precision:\", precision)\n",
        "print(\"Recall:\", recall)\n",
        "print(\"F1 Score:\", f1)\n",
        "print(\"AUC:\", roc_auc)\n"
      ]
    },
    {
      "cell_type": "code",
      "execution_count": 8,
      "metadata": {
        "id": "v1fF2WbLj9M8"
      },
      "outputs": [],
      "source": [
        "import pickle"
      ]
    },
    {
      "cell_type": "code",
      "execution_count": 9,
      "metadata": {
        "id": "qbJ62xmdj8xI"
      },
      "outputs": [],
      "source": [
        "filename = \"liver_model_smote.sav\"\n",
        "pickle.dump(best_model, open(filename, 'wb'))"
      ]
    },
    {
      "cell_type": "markdown",
      "metadata": {
        "id": "zVljUZr6L3RC"
      },
      "source": [
        "diantara ini aku masukin  visualisasi. kalau ga guna silahkan hapus.\n"
      ]
    },
    {
      "cell_type": "code",
      "execution_count": null,
      "metadata": {
        "colab": {
          "base_uri": "https://localhost:8080/"
        },
        "id": "72Q9gI2dJaGK",
        "outputId": "03f14f8d-c970-4afc-82fe-244690843340"
      },
      "outputs": [
        {
          "data": {
            "text/plain": [
              "['xgboost_model.pkl']"
            ]
          },
          "execution_count": 14,
          "metadata": {},
          "output_type": "execute_result"
        }
      ],
      "source": [
        "import joblib\n",
        "\n",
        "# Menyimpan model yang sudah dilatih\n",
        "joblib.dump(best_model, 'xgboost_model.pkl')\n",
        "\n"
      ]
    },
    {
      "cell_type": "code",
      "execution_count": null,
      "metadata": {
        "id": "a_cQGKxJahX7"
      },
      "outputs": [],
      "source": [
        "# Memuat model yang disimpan\n",
        "loaded_model = joblib.load('xgboost_model.pkl')\n",
        "\n",
        "# Menggunakan model untuk prediksi\n",
        "y_pred_loaded = loaded_model.predict(X_test)\n"
      ]
    },
    {
      "cell_type": "code",
      "execution_count": null,
      "metadata": {
        "id": "bzHQ-pqJakaI"
      },
      "outputs": [],
      "source": [
        "import pickle\n",
        "\n",
        "# Menyimpan model yang sudah dilatih\n",
        "with open('xgboost_model.pkl', 'wb') as file:\n",
        "    pickle.dump(best_model, file)\n"
      ]
    },
    {
      "cell_type": "code",
      "execution_count": null,
      "metadata": {
        "id": "RG9Wq3kIar4A"
      },
      "outputs": [],
      "source": [
        "# Memuat model yang disimpan\n",
        "with open('xgboost_model.pkl', 'rb') as file:\n",
        "    loaded_model = pickle.load(file)\n",
        "\n",
        "# Menggunakan model untuk prediksi\n",
        "y_pred_loaded = loaded_model.predict(X_test)\n"
      ]
    },
    {
      "cell_type": "code",
      "execution_count": null,
      "metadata": {
        "colab": {
          "base_uri": "https://localhost:8080/"
        },
        "id": "CqenZbZ6MSGI",
        "outputId": "cbb124a3-2800-4ed5-c9ce-b2df91a6bc10"
      },
      "outputs": [
        {
          "name": "stdout",
          "output_type": "stream",
          "text": [
            "['age_of_the_patient', 'gender_of_the_patient', 'total_bilirubin', 'direct_bilirubin', 'alkphos_alkaline_phosphotase', 'sgpt_alamine_aminotransferase', 'sgot_aspartate_aminotransferase', 'total_protiens', 'alb_albumin', 'a_g_ratio_albumin_and_globulin_ratio']\n"
          ]
        }
      ],
      "source": [
        "# Cek nama fitur dari model yang sudah dilatih\n",
        "print(model.get_booster().feature_names)\n"
      ]
    },
    {
      "cell_type": "markdown",
      "metadata": {
        "id": "Sq34zGNFduR2"
      },
      "source": [
        "**# dengan scaler min max, jadi setiap ada inputan nantinya diharapkan data inputan baru tersebut juga di normalisasi dulu baru di prediksi.**"
      ]
    },
    {
      "cell_type": "code",
      "execution_count": null,
      "metadata": {
        "colab": {
          "base_uri": "https://localhost:8080/"
        },
        "id": "WBegN5WHdw_d",
        "outputId": "00c8f8bf-7a4f-40d6-c50d-f4c11113a7e2"
      },
      "outputs": [
        {
          "name": "stdout",
          "output_type": "stream",
          "text": [
            "Akurasi model: 0.9996\n"
          ]
        }
      ],
      "source": [
        "import pandas as pd\n",
        "import numpy as np\n",
        "import xgboost as xgb\n",
        "from sklearn.model_selection import train_test_split\n",
        "from sklearn.preprocessing import MinMaxScaler\n",
        "import joblib\n",
        "from sklearn.metrics import accuracy_score\n",
        "\n",
        "# Misalkan 'data' adalah DataFrame yang berisi data pelatihan Anda\n",
        "# Fitur (X) dan target (y)\n",
        "X = df.drop(columns=['result'])  # Semua kolom kecuali 'result'\n",
        "y = df['result']  # Kolom target 'result'\n",
        "\n",
        "# Membagi data menjadi train (80%) dan test (20%)\n",
        "X_train, X_test, y_train, y_test = train_test_split(X, y, test_size=0.2, random_state=42)\n",
        "\n",
        "# Inisialisasi dan latih MinMaxScaler\n",
        "scaler = MinMaxScaler()\n",
        "X_train_scaled = scaler.fit_transform(X_train)  # Melatih scaler dan mengubah data pelatihan\n",
        "\n",
        "# Menyimpan scaler yang telah dilatih ke file\n",
        "joblib.dump(scaler, 'scaler.pkl')  # Menyimpan scaler ke file\n",
        "\n",
        "# Melatih model XGBoost\n",
        "params = {\n",
        "    'objective': 'binary:logistic',  # Untuk klasifikasi biner\n",
        "    'eval_metric': 'logloss',  # Metrik untuk evaluasi\n",
        "    'learning_rate': 0.1,\n",
        "    'max_depth': 6,\n",
        "    'n_estimators': 100,\n",
        "    'subsample': 0.8,\n",
        "    'colsample_bytree': 0.8,\n",
        "    'seed': 42\n",
        "}\n",
        "model = xgb.XGBClassifier(**params)\n",
        "model.fit(X_train_scaled, y_train)\n",
        "\n",
        "# Menyimpan model yang telah dilatih ke file\n",
        "joblib.dump(model, 'xgboost_model.pkl')  # Menyimpan model ke file\n",
        "\n",
        "# Evaluasi model di data test\n",
        "X_test_scaled = scaler.transform(X_test)  # Menormalisasi data test menggunakan scaler yang sudah dilatih\n",
        "y_pred = model.predict(X_test_scaled)\n",
        "accuracy = accuracy_score(y_test, y_pred)\n",
        "print(f'Akurasi model: {accuracy:.4f}')\n"
      ]
    },
    {
      "cell_type": "code",
      "execution_count": null,
      "metadata": {
        "colab": {
          "base_uri": "https://localhost:8080/"
        },
        "id": "JT-7t7eEeVUH",
        "outputId": "dc640187-7034-434c-eab6-61526f409098"
      },
      "outputs": [
        {
          "name": "stdout",
          "output_type": "stream",
          "text": [
            "Hasil prediksi adalah:\n",
            "Pasien tidak terkena kondisi (Result = 0)\n"
          ]
        },
        {
          "name": "stderr",
          "output_type": "stream",
          "text": [
            "/usr/local/lib/python3.10/dist-packages/sklearn/base.py:493: UserWarning: X does not have valid feature names, but MinMaxScaler was fitted with feature names\n",
            "  warnings.warn(\n"
          ]
        }
      ],
      "source": [
        "import joblib\n",
        "import numpy as np\n",
        "\n",
        "# Memuat model dan scaler yang sudah disimpan\n",
        "model = joblib.load('xgboost_model.pkl')  # Memuat model XGBoost yang sudah dilatih\n",
        "scaler = joblib.load('scaler.pkl')  # Memuat scaler yang sudah dilatih\n",
        "\n",
        "# Fungsi untuk prediksi\n",
        "def predict_result(data):\n",
        "    # Ubah data menjadi array 2D dan normalisasi dengan scaler\n",
        "    data_scaled = scaler.transform(np.array(data).reshape(1, -1))  # Normalisasi data baru\n",
        "\n",
        "    # Prediksi menggunakan model yang sudah dilatih\n",
        "    prediction = model.predict(data_scaled)\n",
        "\n",
        "    # Kembalikan hasil prediksi\n",
        "    if prediction[0] == 0:\n",
        "        return \"Pasien tidak terkena kondisi (Result = 0)\"\n",
        "    else:\n",
        "        return \"Pasien terkena kondisi (Result = 1)\"\n",
        "\n",
        "# Contoh data baru untuk diuji (sesuaikan dengan fitur model Anda)\n",
        "new_data = [65, 1, 0.9, 0.6, 200, 30, 10, 3, 4, 2]  # Gantilah dengan data baru sesuai dengan fitur Anda\n",
        "\n",
        "# Panggil fungsi prediksi\n",
        "result = predict_result(new_data)\n",
        "\n",
        "# Cetak hasil prediksi\n",
        "print('Hasil prediksi adalah:')\n",
        "print(result)\n"
      ]
    },
    {
      "cell_type": "markdown",
      "metadata": {
        "id": "9atFRBQyfcSC"
      },
      "source": [
        "**yang ini dengan scaler + grid search untuk tuning**"
      ]
    },
    {
      "cell_type": "code",
      "execution_count": null,
      "metadata": {
        "colab": {
          "base_uri": "https://localhost:8080/"
        },
        "id": "hlM67YBffcDC",
        "outputId": "792691c7-4f12-418b-db82-e4db0064fc55"
      },
      "outputs": [
        {
          "name": "stdout",
          "output_type": "stream",
          "text": [
            "Kelas unik di 'Result': [0. 1.]\n",
            "Akurasi model awal: 0.9993\n",
            "Fitting 10 folds for each of 243 candidates, totalling 2430 fits\n",
            "Hasil terbaik dari Grid Search:\n",
            "Best parameters: {'colsample_bytree': 0.6, 'learning_rate': 0.1, 'max_depth': 7, 'n_estimators': 200, 'subsample': 0.6}\n",
            "Best cross-validation score: 0.9999\n",
            "Akurasi model terbaik: 0.9998\n"
          ]
        },
        {
          "data": {
            "text/plain": [
              "['best_xgboost_model.pkl']"
            ]
          },
          "execution_count": 26,
          "metadata": {},
          "output_type": "execute_result"
        }
      ],
      "source": [
        "import pandas as pd\n",
        "import numpy as np\n",
        "import xgboost as xgb\n",
        "from sklearn.model_selection import train_test_split, GridSearchCV\n",
        "from sklearn.preprocessing import MinMaxScaler\n",
        "import joblib\n",
        "from sklearn.metrics import accuracy_score\n",
        "\n",
        "# Misalkan df adalah DataFrame yang berisi data Anda\n",
        "X = df.drop(columns=['result'])  # Semua kolom kecuali 'result'\n",
        "y = df['result']  # Kolom target 'result'\n",
        "\n",
        "# Memeriksa kelas unik di 'Result'\n",
        "print(\"Kelas unik di 'Result':\", np.unique(y))\n",
        "\n",
        "# Membagi data menjadi train (80%) dan test (20%)\n",
        "X_train, X_test, y_train, y_test = train_test_split(X, y, test_size=0.2, random_state=42)\n",
        "\n",
        "# 1. Normalisasi Data menggunakan MinMaxScaler\n",
        "scaler = MinMaxScaler()\n",
        "X_train_scaled = scaler.fit_transform(X_train)  # Melatih scaler dan mengubah data pelatihan\n",
        "X_test_scaled = scaler.transform(X_test)  # Menggunakan scaler yang sama untuk data test\n",
        "\n",
        "# Menyimpan scaler ke file\n",
        "joblib.dump(scaler, 'scaler.pkl')  # Menyimpan scaler ke file untuk digunakan di masa depan\n",
        "\n",
        "# 2. Menentukan hyperparameter awal\n",
        "params = {\n",
        "    'objective': 'multi:softmax',  # Untuk klasifikasi multikelas\n",
        "    'num_class': len(np.unique(y)), # Jumlah kelas unik dalam 'Result'\n",
        "    'eval_metric': 'mlogloss',      # Metrik untuk klasifikasi multikelas\n",
        "    'learning_rate': 0.1,\n",
        "    'max_depth': 6,\n",
        "    'n_estimators': 100,\n",
        "    'subsample': 0.8,\n",
        "    'colsample_bytree': 0.8,\n",
        "    'seed': 42\n",
        "}\n",
        "\n",
        "# 3. Melatih model awal\n",
        "model = xgb.XGBClassifier(**params)\n",
        "model.fit(X_train_scaled, y_train)\n",
        "\n",
        "# 4. Evaluasi model awal\n",
        "y_pred = model.predict(X_test_scaled)\n",
        "accuracy = accuracy_score(y_test, y_pred)\n",
        "print(f'Akurasi model awal: {accuracy:.4f}')\n",
        "\n",
        "# 5. Hyperparameter tuning menggunakan Grid Search\n",
        "param_grid = {\n",
        "    'learning_rate': [0.01, 0.1, 0.2],\n",
        "    'max_depth': [3, 5, 7],\n",
        "    'n_estimators': [50, 100, 200],\n",
        "    'subsample': [0.6, 0.8, 1.0],\n",
        "    'colsample_bytree': [0.6, 0.8, 1.0]\n",
        "}\n",
        "\n",
        "grid_search = GridSearchCV(estimator=xgb.XGBClassifier(**params),\n",
        "                           param_grid=param_grid,\n",
        "                           scoring='accuracy',\n",
        "                           cv=10,\n",
        "                           verbose=1,\n",
        "                           n_jobs=-1)\n",
        "\n",
        "# Melatih Grid Search\n",
        "grid_search.fit(X_train_scaled, y_train)\n",
        "\n",
        "# 6. Menampilkan hasil terbaik dari Grid Search\n",
        "print(\"Hasil terbaik dari Grid Search:\")\n",
        "print(f'Best parameters: {grid_search.best_params_}')\n",
        "print(f'Best cross-validation score: {grid_search.best_score_:.4f}')\n",
        "\n",
        "# 7. Evaluasi model terbaik di test set\n",
        "best_model = grid_search.best_estimator_\n",
        "y_pred_best = best_model.predict(X_test_scaled)\n",
        "best_accuracy = accuracy_score(y_test, y_pred_best)\n",
        "print(f'Akurasi model terbaik: {best_accuracy:.4f}')\n",
        "\n",
        "# 8. Menyimpan model terbaik ke file\n",
        "joblib.dump(best_model, 'best_xgboost_model.pkl')  # Menyimpan model terbaik ke file\n"
      ]
    },
    {
      "cell_type": "code",
      "execution_count": null,
      "metadata": {
        "id": "QIqAmpsCmmek"
      },
      "outputs": [],
      "source": [
        "from sklearn.metrics import accuracy_score, precision_score, recall_score, f1_score, roc_auc_score, confusion_matrix\n",
        "from sklearn.preprocessing import label_binarize\n"
      ]
    },
    {
      "cell_type": "code",
      "execution_count": null,
      "metadata": {
        "colab": {
          "base_uri": "https://localhost:8080/"
        },
        "id": "0dQNNRPGm5dV",
        "outputId": "3fbeb4b4-724c-4152-f118-aa02f65a077a"
      },
      "outputs": [
        {
          "name": "stdout",
          "output_type": "stream",
          "text": [
            "Akurasi: 0.9998\n",
            "Presisi (Precision): 0.9999\n",
            "Recall: 0.9997\n",
            "F1 Score: 0.9998\n",
            "AUC: 0.9996\n"
          ]
        }
      ],
      "source": [
        "# Melakukan evaluasi model terbaik\n",
        "y_pred_best = best_model.predict(X_test_scaled)\n",
        "\n",
        "# Menghitung akurasi\n",
        "accuracy = accuracy_score(y_test, y_pred_best)\n",
        "\n",
        "# Menghitung presisi (precision), recall, dan F1 score\n",
        "precision = precision_score(y_test, y_pred_best, average='macro', zero_division=0)\n",
        "recall = recall_score(y_test, y_pred_best, average='macro', zero_division=0)\n",
        "f1 = f1_score(y_test, y_pred_best, average='macro', zero_division=0)\n",
        "\n",
        "# Menghitung AUC (Area Under Curve) - jika tasknya klasifikasi biner\n",
        "if len(np.unique(y)) == 2:  # Jika ada dua kelas (klasifikasi biner)\n",
        "    auc = roc_auc_score(y_test, best_model.predict_proba(X_test_scaled)[:, 1])\n",
        "else:\n",
        "    # Untuk multi-class, kita harus binarize target label dan menghitung AUC untuk setiap kelas\n",
        "    y_test_bin = label_binarize(y_test, classes=np.unique(y))\n",
        "    auc = roc_auc_score(y_test_bin, best_model.predict_proba(X_test_scaled), average='macro', multi_class='ovr')\n",
        "\n",
        "# Menampilkan metrik-metrik evaluasi\n",
        "print(f'Akurasi: {accuracy:.4f}')\n",
        "print(f'Presisi (Precision): {precision:.4f}')\n",
        "print(f'Recall: {recall:.4f}')\n",
        "print(f'F1 Score: {f1:.4f}')\n",
        "print(f'AUC: {auc:.4f}')\n"
      ]
    },
    {
      "cell_type": "code",
      "execution_count": null,
      "metadata": {
        "colab": {
          "base_uri": "https://localhost:8080/"
        },
        "id": "q3uOT5LffqhT",
        "outputId": "ae88b231-c52f-4261-8111-cfd0b78bebf4"
      },
      "outputs": [
        {
          "name": "stdout",
          "output_type": "stream",
          "text": [
            "Hasil prediksi adalah:\n",
            "Pasien tidak terkena diabetes\n"
          ]
        },
        {
          "name": "stderr",
          "output_type": "stream",
          "text": [
            "/usr/local/lib/python3.10/dist-packages/sklearn/base.py:493: UserWarning: X does not have valid feature names, but MinMaxScaler was fitted with feature names\n",
            "  warnings.warn(\n"
          ]
        }
      ],
      "source": [
        "import joblib\n",
        "import numpy as np\n",
        "\n",
        "def predict_with_model(data):\n",
        "    # Memuat scaler yang telah disimpan\n",
        "    scaler = joblib.load('scaler.pkl')\n",
        "\n",
        "    # Memuat model terbaik yang telah disimpan\n",
        "    model = joblib.load('best_xgboost_model.pkl')\n",
        "\n",
        "    # Menormalisasi data input dengan scaler yang sama\n",
        "    data_scaled = scaler.transform([data])  # Pastikan data dalam bentuk 2D\n",
        "\n",
        "    # Melakukan prediksi dengan model yang sudah dilatih\n",
        "    prediction = model.predict(data_scaled)\n",
        "\n",
        "    # Mengembalikan hasil prediksi\n",
        "    if prediction[0] == 0:\n",
        "        return \"Pasien tidak terkena diabetes\"\n",
        "    elif prediction[0] == 1:\n",
        "        return \"Pasien terkena diabetes\"\n",
        "    else:\n",
        "        return \"Kelas tidak dikenal\"\n",
        "\n",
        "# Contoh pengujian prediksi dengan satu data\n",
        "new_data = [65, 1, 0.9, 0.6, 200, 30, 10, 3, 4, 2]  # Misalnya data input baru\n",
        "result = predict_with_model(new_data)\n",
        "\n",
        "# Cetak hasil prediksi\n",
        "print('Hasil prediksi adalah:')\n",
        "print(result)\n"
      ]
    }
  ],
  "metadata": {
    "colab": {
      "authorship_tag": "ABX9TyOeL4bqRCNwOZmOAgGjMxd/",
      "include_colab_link": true,
      "provenance": []
    },
    "kernelspec": {
      "display_name": "Python 3",
      "name": "python3"
    },
    "language_info": {
      "name": "python"
    }
  },
  "nbformat": 4,
  "nbformat_minor": 0
}
